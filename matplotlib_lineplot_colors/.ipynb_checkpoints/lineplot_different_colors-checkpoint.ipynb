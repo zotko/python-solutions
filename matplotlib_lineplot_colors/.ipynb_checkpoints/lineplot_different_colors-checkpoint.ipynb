{
 "cells": [
  {
   "cell_type": "code",
   "execution_count": 4,
   "metadata": {},
   "outputs": [],
   "source": [
    "import pandas as pd\n",
    "import matplotlib.pyplot as plt"
   ]
  },
  {
   "cell_type": "code",
   "execution_count": 5,
   "metadata": {
    "scrolled": true
   },
   "outputs": [
    {
     "data": {
      "text/html": [
       "<div>\n",
       "<style scoped>\n",
       "    .dataframe tbody tr th:only-of-type {\n",
       "        vertical-align: middle;\n",
       "    }\n",
       "\n",
       "    .dataframe tbody tr th {\n",
       "        vertical-align: top;\n",
       "    }\n",
       "\n",
       "    .dataframe thead th {\n",
       "        text-align: right;\n",
       "    }\n",
       "</style>\n",
       "<table border=\"1\" class=\"dataframe\">\n",
       "  <thead>\n",
       "    <tr style=\"text-align: right;\">\n",
       "      <th></th>\n",
       "      <th>date</th>\n",
       "      <th>path_of_least_resistance_price</th>\n",
       "      <th>trade_cycle_state_price</th>\n",
       "      <th>path_of_least_resistance_colors</th>\n",
       "      <th>trade_cycle_colors</th>\n",
       "    </tr>\n",
       "  </thead>\n",
       "  <tbody>\n",
       "    <tr>\n",
       "      <th>0</th>\n",
       "      <td>2018-11-19</td>\n",
       "      <td>269.10</td>\n",
       "      <td>269.10</td>\n",
       "      <td>rgb(255, 224, 224)</td>\n",
       "      <td>rgb(192, 192, 192)</td>\n",
       "    </tr>\n",
       "    <tr>\n",
       "      <th>1</th>\n",
       "      <td>2018-11-20</td>\n",
       "      <td>264.12</td>\n",
       "      <td>264.12</td>\n",
       "      <td>rgb(255, 48, 48)</td>\n",
       "      <td>rgb(255, 48, 48)</td>\n",
       "    </tr>\n",
       "    <tr>\n",
       "      <th>2</th>\n",
       "      <td>2018-11-21</td>\n",
       "      <td>265.02</td>\n",
       "      <td>265.02</td>\n",
       "      <td>rgb(255, 48, 48)</td>\n",
       "      <td>rgb(255, 48, 48)</td>\n",
       "    </tr>\n",
       "    <tr>\n",
       "      <th>3</th>\n",
       "      <td>2018-11-23</td>\n",
       "      <td>263.25</td>\n",
       "      <td>263.25</td>\n",
       "      <td>rgb(255, 48, 48)</td>\n",
       "      <td>rgb(255, 48, 48)</td>\n",
       "    </tr>\n",
       "    <tr>\n",
       "      <th>4</th>\n",
       "      <td>2018-11-26</td>\n",
       "      <td>267.50</td>\n",
       "      <td>267.50</td>\n",
       "      <td>rgb(255, 48, 48)</td>\n",
       "      <td>rgb(255, 48, 48)</td>\n",
       "    </tr>\n",
       "  </tbody>\n",
       "</table>\n",
       "</div>"
      ],
      "text/plain": [
       "         date  path_of_least_resistance_price  trade_cycle_state_price  \\\n",
       "0  2018-11-19                          269.10                   269.10   \n",
       "1  2018-11-20                          264.12                   264.12   \n",
       "2  2018-11-21                          265.02                   265.02   \n",
       "3  2018-11-23                          263.25                   263.25   \n",
       "4  2018-11-26                          267.50                   267.50   \n",
       "\n",
       "  path_of_least_resistance_colors  trade_cycle_colors  \n",
       "0              rgb(255, 224, 224)  rgb(192, 192, 192)  \n",
       "1                rgb(255, 48, 48)    rgb(255, 48, 48)  \n",
       "2                rgb(255, 48, 48)    rgb(255, 48, 48)  \n",
       "3                rgb(255, 48, 48)    rgb(255, 48, 48)  \n",
       "4                rgb(255, 48, 48)    rgb(255, 48, 48)  "
      ]
     },
     "execution_count": 5,
     "metadata": {},
     "output_type": "execute_result"
    }
   ],
   "source": [
    "df = pd.read_csv('market_data.csv')\n",
    "df.head()"
   ]
  },
  {
   "cell_type": "code",
   "execution_count": 199,
   "metadata": {},
   "outputs": [],
   "source": [
    "df['date'] = pd.to_datetime(df['date'])"
   ]
  },
  {
   "cell_type": "code",
   "execution_count": 200,
   "metadata": {},
   "outputs": [],
   "source": [
    "def hex_to_rgb(color):\n",
    "    if color.startswith('#'):\n",
    "        color = color.lstrip('#')\n",
    "        return [int(color[i:i+2], 16) for i in (0, 2, 4)]\n",
    "    else:\n",
    "        return eval(color[3:])"
   ]
  },
  {
   "cell_type": "code",
   "execution_count": 201,
   "metadata": {},
   "outputs": [],
   "source": [
    "df['path_of_least_resistance_colors'] = df['path_of_least_resistance_colors'].apply(hex_to_rgb)"
   ]
  },
  {
   "cell_type": "code",
   "execution_count": 202,
   "metadata": {},
   "outputs": [],
   "source": [
    "df = df.join(df['path_of_least_resistance_colors'].apply(pd.Series))"
   ]
  },
  {
   "cell_type": "code",
   "execution_count": 203,
   "metadata": {},
   "outputs": [],
   "source": [
    "df = df.set_index('date')"
   ]
  },
  {
   "cell_type": "code",
   "execution_count": 204,
   "metadata": {},
   "outputs": [],
   "source": [
    "df = df.resample('H').asfreq()"
   ]
  },
  {
   "cell_type": "code",
   "execution_count": 205,
   "metadata": {},
   "outputs": [],
   "source": [
    "df = df.interpolate()"
   ]
  },
  {
   "cell_type": "code",
   "execution_count": 206,
   "metadata": {},
   "outputs": [
    {
     "data": {
      "text/html": [
       "<div>\n",
       "<style scoped>\n",
       "    .dataframe tbody tr th:only-of-type {\n",
       "        vertical-align: middle;\n",
       "    }\n",
       "\n",
       "    .dataframe tbody tr th {\n",
       "        vertical-align: top;\n",
       "    }\n",
       "\n",
       "    .dataframe thead th {\n",
       "        text-align: right;\n",
       "    }\n",
       "</style>\n",
       "<table border=\"1\" class=\"dataframe\">\n",
       "  <thead>\n",
       "    <tr style=\"text-align: right;\">\n",
       "      <th></th>\n",
       "      <th>path_of_least_resistance_price</th>\n",
       "      <th>trade_cycle_state_price</th>\n",
       "      <th>path_of_least_resistance_colors</th>\n",
       "      <th>trade_cycle_colors</th>\n",
       "      <th>0</th>\n",
       "      <th>1</th>\n",
       "      <th>2</th>\n",
       "    </tr>\n",
       "    <tr>\n",
       "      <th>date</th>\n",
       "      <th></th>\n",
       "      <th></th>\n",
       "      <th></th>\n",
       "      <th></th>\n",
       "      <th></th>\n",
       "      <th></th>\n",
       "      <th></th>\n",
       "    </tr>\n",
       "  </thead>\n",
       "  <tbody>\n",
       "    <tr>\n",
       "      <th>2018-12-10 00:00:00</th>\n",
       "      <td>264.0700</td>\n",
       "      <td>264.0700</td>\n",
       "      <td>(255, 48, 48)</td>\n",
       "      <td>rgb(255, 48, 48)</td>\n",
       "      <td>255.0</td>\n",
       "      <td>48.0</td>\n",
       "      <td>48.0</td>\n",
       "    </tr>\n",
       "    <tr>\n",
       "      <th>2018-12-10 01:00:00</th>\n",
       "      <td>264.0725</td>\n",
       "      <td>264.0725</td>\n",
       "      <td>NaN</td>\n",
       "      <td>NaN</td>\n",
       "      <td>255.0</td>\n",
       "      <td>48.0</td>\n",
       "      <td>48.0</td>\n",
       "    </tr>\n",
       "    <tr>\n",
       "      <th>2018-12-10 02:00:00</th>\n",
       "      <td>264.0750</td>\n",
       "      <td>264.0750</td>\n",
       "      <td>NaN</td>\n",
       "      <td>NaN</td>\n",
       "      <td>255.0</td>\n",
       "      <td>48.0</td>\n",
       "      <td>48.0</td>\n",
       "    </tr>\n",
       "    <tr>\n",
       "      <th>2018-12-10 03:00:00</th>\n",
       "      <td>264.0775</td>\n",
       "      <td>264.0775</td>\n",
       "      <td>NaN</td>\n",
       "      <td>NaN</td>\n",
       "      <td>255.0</td>\n",
       "      <td>48.0</td>\n",
       "      <td>48.0</td>\n",
       "    </tr>\n",
       "    <tr>\n",
       "      <th>2018-12-10 04:00:00</th>\n",
       "      <td>264.0800</td>\n",
       "      <td>264.0800</td>\n",
       "      <td>NaN</td>\n",
       "      <td>NaN</td>\n",
       "      <td>255.0</td>\n",
       "      <td>48.0</td>\n",
       "      <td>48.0</td>\n",
       "    </tr>\n",
       "  </tbody>\n",
       "</table>\n",
       "</div>"
      ],
      "text/plain": [
       "                     path_of_least_resistance_price  trade_cycle_state_price  \\\n",
       "date                                                                           \n",
       "2018-12-10 00:00:00                        264.0700                 264.0700   \n",
       "2018-12-10 01:00:00                        264.0725                 264.0725   \n",
       "2018-12-10 02:00:00                        264.0750                 264.0750   \n",
       "2018-12-10 03:00:00                        264.0775                 264.0775   \n",
       "2018-12-10 04:00:00                        264.0800                 264.0800   \n",
       "\n",
       "                    path_of_least_resistance_colors trade_cycle_colors      0  \\\n",
       "date                                                                            \n",
       "2018-12-10 00:00:00                   (255, 48, 48)   rgb(255, 48, 48)  255.0   \n",
       "2018-12-10 01:00:00                             NaN                NaN  255.0   \n",
       "2018-12-10 02:00:00                             NaN                NaN  255.0   \n",
       "2018-12-10 03:00:00                             NaN                NaN  255.0   \n",
       "2018-12-10 04:00:00                             NaN                NaN  255.0   \n",
       "\n",
       "                        1     2  \n",
       "date                             \n",
       "2018-12-10 00:00:00  48.0  48.0  \n",
       "2018-12-10 01:00:00  48.0  48.0  \n",
       "2018-12-10 02:00:00  48.0  48.0  \n",
       "2018-12-10 03:00:00  48.0  48.0  \n",
       "2018-12-10 04:00:00  48.0  48.0  "
      ]
     },
     "execution_count": 206,
     "metadata": {},
     "output_type": "execute_result"
    }
   ],
   "source": [
    "df.head()"
   ]
  },
  {
   "cell_type": "code",
   "execution_count": 207,
   "metadata": {},
   "outputs": [],
   "source": [
    "def func(row):\n",
    "    return '#%02x%02x%02x' % (int(row.loc[0]), int(row.loc[1]), int(row.loc[2]))"
   ]
  },
  {
   "cell_type": "code",
   "execution_count": 208,
   "metadata": {},
   "outputs": [],
   "source": [
    "df['path_of_least_resistance_colors'] = df.apply(func, axis=1)"
   ]
  },
  {
   "cell_type": "code",
   "execution_count": 209,
   "metadata": {},
   "outputs": [
    {
     "data": {
      "text/html": [
       "<div>\n",
       "<style scoped>\n",
       "    .dataframe tbody tr th:only-of-type {\n",
       "        vertical-align: middle;\n",
       "    }\n",
       "\n",
       "    .dataframe tbody tr th {\n",
       "        vertical-align: top;\n",
       "    }\n",
       "\n",
       "    .dataframe thead th {\n",
       "        text-align: right;\n",
       "    }\n",
       "</style>\n",
       "<table border=\"1\" class=\"dataframe\">\n",
       "  <thead>\n",
       "    <tr style=\"text-align: right;\">\n",
       "      <th></th>\n",
       "      <th>path_of_least_resistance_price</th>\n",
       "      <th>trade_cycle_state_price</th>\n",
       "      <th>path_of_least_resistance_colors</th>\n",
       "      <th>trade_cycle_colors</th>\n",
       "      <th>0</th>\n",
       "      <th>1</th>\n",
       "      <th>2</th>\n",
       "    </tr>\n",
       "    <tr>\n",
       "      <th>date</th>\n",
       "      <th></th>\n",
       "      <th></th>\n",
       "      <th></th>\n",
       "      <th></th>\n",
       "      <th></th>\n",
       "      <th></th>\n",
       "      <th></th>\n",
       "    </tr>\n",
       "  </thead>\n",
       "  <tbody>\n",
       "    <tr>\n",
       "      <th>2018-12-10 00:00:00</th>\n",
       "      <td>264.070000</td>\n",
       "      <td>264.070000</td>\n",
       "      <td>#ff3030</td>\n",
       "      <td>rgb(255, 48, 48)</td>\n",
       "      <td>255.0</td>\n",
       "      <td>48.0</td>\n",
       "      <td>48.0</td>\n",
       "    </tr>\n",
       "    <tr>\n",
       "      <th>2018-12-10 01:00:00</th>\n",
       "      <td>264.072500</td>\n",
       "      <td>264.072500</td>\n",
       "      <td>#ff3030</td>\n",
       "      <td>NaN</td>\n",
       "      <td>255.0</td>\n",
       "      <td>48.0</td>\n",
       "      <td>48.0</td>\n",
       "    </tr>\n",
       "    <tr>\n",
       "      <th>2018-12-10 02:00:00</th>\n",
       "      <td>264.075000</td>\n",
       "      <td>264.075000</td>\n",
       "      <td>#ff3030</td>\n",
       "      <td>NaN</td>\n",
       "      <td>255.0</td>\n",
       "      <td>48.0</td>\n",
       "      <td>48.0</td>\n",
       "    </tr>\n",
       "    <tr>\n",
       "      <th>2018-12-10 03:00:00</th>\n",
       "      <td>264.077500</td>\n",
       "      <td>264.077500</td>\n",
       "      <td>#ff3030</td>\n",
       "      <td>NaN</td>\n",
       "      <td>255.0</td>\n",
       "      <td>48.0</td>\n",
       "      <td>48.0</td>\n",
       "    </tr>\n",
       "    <tr>\n",
       "      <th>2018-12-10 04:00:00</th>\n",
       "      <td>264.080000</td>\n",
       "      <td>264.080000</td>\n",
       "      <td>#ff3030</td>\n",
       "      <td>NaN</td>\n",
       "      <td>255.0</td>\n",
       "      <td>48.0</td>\n",
       "      <td>48.0</td>\n",
       "    </tr>\n",
       "    <tr>\n",
       "      <th>...</th>\n",
       "      <td>...</td>\n",
       "      <td>...</td>\n",
       "      <td>...</td>\n",
       "      <td>...</td>\n",
       "      <td>...</td>\n",
       "      <td>...</td>\n",
       "      <td>...</td>\n",
       "    </tr>\n",
       "    <tr>\n",
       "      <th>2020-04-07 20:00:00</th>\n",
       "      <td>272.593333</td>\n",
       "      <td>272.593333</td>\n",
       "      <td>#ffe0e0</td>\n",
       "      <td>NaN</td>\n",
       "      <td>255.0</td>\n",
       "      <td>224.0</td>\n",
       "      <td>224.0</td>\n",
       "    </tr>\n",
       "    <tr>\n",
       "      <th>2020-04-07 21:00:00</th>\n",
       "      <td>273.022500</td>\n",
       "      <td>273.022500</td>\n",
       "      <td>#ffe0e0</td>\n",
       "      <td>NaN</td>\n",
       "      <td>255.0</td>\n",
       "      <td>224.0</td>\n",
       "      <td>224.0</td>\n",
       "    </tr>\n",
       "    <tr>\n",
       "      <th>2020-04-07 22:00:00</th>\n",
       "      <td>273.451667</td>\n",
       "      <td>273.451667</td>\n",
       "      <td>#ffe0e0</td>\n",
       "      <td>NaN</td>\n",
       "      <td>255.0</td>\n",
       "      <td>224.0</td>\n",
       "      <td>224.0</td>\n",
       "    </tr>\n",
       "    <tr>\n",
       "      <th>2020-04-07 23:00:00</th>\n",
       "      <td>273.880833</td>\n",
       "      <td>273.880833</td>\n",
       "      <td>#ffe0e0</td>\n",
       "      <td>NaN</td>\n",
       "      <td>255.0</td>\n",
       "      <td>224.0</td>\n",
       "      <td>224.0</td>\n",
       "    </tr>\n",
       "    <tr>\n",
       "      <th>2020-04-08 00:00:00</th>\n",
       "      <td>274.310000</td>\n",
       "      <td>274.310000</td>\n",
       "      <td>#ffe0e0</td>\n",
       "      <td>rgb(255, 255, 102)</td>\n",
       "      <td>255.0</td>\n",
       "      <td>224.0</td>\n",
       "      <td>224.0</td>\n",
       "    </tr>\n",
       "  </tbody>\n",
       "</table>\n",
       "<p>11641 rows × 7 columns</p>\n",
       "</div>"
      ],
      "text/plain": [
       "                     path_of_least_resistance_price  trade_cycle_state_price  \\\n",
       "date                                                                           \n",
       "2018-12-10 00:00:00                      264.070000               264.070000   \n",
       "2018-12-10 01:00:00                      264.072500               264.072500   \n",
       "2018-12-10 02:00:00                      264.075000               264.075000   \n",
       "2018-12-10 03:00:00                      264.077500               264.077500   \n",
       "2018-12-10 04:00:00                      264.080000               264.080000   \n",
       "...                                             ...                      ...   \n",
       "2020-04-07 20:00:00                      272.593333               272.593333   \n",
       "2020-04-07 21:00:00                      273.022500               273.022500   \n",
       "2020-04-07 22:00:00                      273.451667               273.451667   \n",
       "2020-04-07 23:00:00                      273.880833               273.880833   \n",
       "2020-04-08 00:00:00                      274.310000               274.310000   \n",
       "\n",
       "                    path_of_least_resistance_colors  trade_cycle_colors  \\\n",
       "date                                                                      \n",
       "2018-12-10 00:00:00                         #ff3030    rgb(255, 48, 48)   \n",
       "2018-12-10 01:00:00                         #ff3030                 NaN   \n",
       "2018-12-10 02:00:00                         #ff3030                 NaN   \n",
       "2018-12-10 03:00:00                         #ff3030                 NaN   \n",
       "2018-12-10 04:00:00                         #ff3030                 NaN   \n",
       "...                                             ...                 ...   \n",
       "2020-04-07 20:00:00                         #ffe0e0                 NaN   \n",
       "2020-04-07 21:00:00                         #ffe0e0                 NaN   \n",
       "2020-04-07 22:00:00                         #ffe0e0                 NaN   \n",
       "2020-04-07 23:00:00                         #ffe0e0                 NaN   \n",
       "2020-04-08 00:00:00                         #ffe0e0  rgb(255, 255, 102)   \n",
       "\n",
       "                         0      1      2  \n",
       "date                                      \n",
       "2018-12-10 00:00:00  255.0   48.0   48.0  \n",
       "2018-12-10 01:00:00  255.0   48.0   48.0  \n",
       "2018-12-10 02:00:00  255.0   48.0   48.0  \n",
       "2018-12-10 03:00:00  255.0   48.0   48.0  \n",
       "2018-12-10 04:00:00  255.0   48.0   48.0  \n",
       "...                    ...    ...    ...  \n",
       "2020-04-07 20:00:00  255.0  224.0  224.0  \n",
       "2020-04-07 21:00:00  255.0  224.0  224.0  \n",
       "2020-04-07 22:00:00  255.0  224.0  224.0  \n",
       "2020-04-07 23:00:00  255.0  224.0  224.0  \n",
       "2020-04-08 00:00:00  255.0  224.0  224.0  \n",
       "\n",
       "[11641 rows x 7 columns]"
      ]
     },
     "execution_count": 209,
     "metadata": {},
     "output_type": "execute_result"
    }
   ],
   "source": [
    "df"
   ]
  },
  {
   "cell_type": "code",
   "execution_count": 220,
   "metadata": {},
   "outputs": [
    {
     "data": {
      "text/plain": [
       "<matplotlib.collections.PathCollection at 0x7feb15b3e820>"
      ]
     },
     "execution_count": 220,
     "metadata": {},
     "output_type": "execute_result"
    },
    {
     "data": {
      "image/png": "[encoded data removed]",
      "text/plain": [
       "<Figure size 1440x720 with 1 Axes>"
      ]
     },
     "metadata": {
      "needs_background": "light"
     },
     "output_type": "display_data"
    }
   ],
   "source": [
    "fig = plt.figure(figsize=(20, 10))\n",
    "ax = fig.add_subplot()\n",
    "\n",
    "ax.scatter(x=df.reset_index()['date'], y=df['path_of_least_resistance_price'],\n",
    "            c=df['path_of_least_resistance_colors'], s=40)\n",
    "# ax.plot(df.reset_index()['date'], df['path_of_least_resistance_price'], color='')"
   ]
  },
  {
   "cell_type": "code",
   "execution_count": 211,
   "metadata": {},
   "outputs": [
    {
     "ename": "KeyError",
     "evalue": "\"None of ['date'] are in the columns\"",
     "output_type": "error",
     "traceback": [
      "\u001b[0;31m---------------------------------------------------------------------------\u001b[0m",
      "\u001b[0;31mKeyError\u001b[0m                                  Traceback (most recent call last)",
      "\u001b[0;32m<ipython-input-211-d881762560a0>\u001b[0m in \u001b[0;36m<module>\u001b[0;34m\u001b[0m\n\u001b[0;32m----> 1\u001b[0;31m \u001b[0mdf\u001b[0m\u001b[0;34m.\u001b[0m\u001b[0mset_index\u001b[0m\u001b[0;34m(\u001b[0m\u001b[0;34m'date'\u001b[0m\u001b[0;34m)\u001b[0m\u001b[0;34m.\u001b[0m\u001b[0mplot\u001b[0m\u001b[0;34m(\u001b[0m\u001b[0;34m)\u001b[0m\u001b[0;34m\u001b[0m\u001b[0;34m\u001b[0m\u001b[0m\n\u001b[0m",
      "\u001b[0;32m~/miniconda3/envs/so/lib/python3.8/site-packages/pandas/core/frame.py\u001b[0m in \u001b[0;36mset_index\u001b[0;34m(self, keys, drop, append, inplace, verify_integrity)\u001b[0m\n\u001b[1;32m   4301\u001b[0m \u001b[0;34m\u001b[0m\u001b[0m\n\u001b[1;32m   4302\u001b[0m         \u001b[0;32mif\u001b[0m \u001b[0mmissing\u001b[0m\u001b[0;34m:\u001b[0m\u001b[0;34m\u001b[0m\u001b[0;34m\u001b[0m\u001b[0m\n\u001b[0;32m-> 4303\u001b[0;31m             \u001b[0;32mraise\u001b[0m \u001b[0mKeyError\u001b[0m\u001b[0;34m(\u001b[0m\u001b[0;34mf\"None of {missing} are in the columns\"\u001b[0m\u001b[0;34m)\u001b[0m\u001b[0;34m\u001b[0m\u001b[0;34m\u001b[0m\u001b[0m\n\u001b[0m\u001b[1;32m   4304\u001b[0m \u001b[0;34m\u001b[0m\u001b[0m\n\u001b[1;32m   4305\u001b[0m         \u001b[0;32mif\u001b[0m \u001b[0minplace\u001b[0m\u001b[0;34m:\u001b[0m\u001b[0;34m\u001b[0m\u001b[0;34m\u001b[0m\u001b[0m\n",
      "\u001b[0;31mKeyError\u001b[0m: \"None of ['date'] are in the columns\""
     ]
    }
   ],
   "source": [
    "df.set_index('date').plot()"
   ]
  },
  {
   "cell_type": "code",
   "execution_count": null,
   "metadata": {},
   "outputs": [],
   "source": [
    "\n"
   ]
  }
 ],
 "metadata": {
  "kernelspec": {
   "display_name": "Python 3",
   "language": "python",
   "name": "python3"
  },
  "language_info": {
   "codemirror_mode": {
    "name": "ipython",
    "version": 3
   },
   "file_extension": ".py",
   "mimetype": "text/x-python",
   "name": "python",
   "nbconvert_exporter": "python",
   "pygments_lexer": "ipython3",
   "version": "3.8.2"
  }
 },
 "nbformat": 4,
 "nbformat_minor": 2
}
