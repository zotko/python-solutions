{
 "cells": [
  {
   "cell_type": "code",
   "execution_count": 138,
   "metadata": {},
   "outputs": [],
   "source": [
    "import pandas as pd\n",
    "import matplotlib.pyplot as plt\n",
    "import matplotlib.dates as mdates"
   ]
  },
  {
   "cell_type": "code",
   "execution_count": 139,
   "metadata": {
    "scrolled": true
   },
   "outputs": [
    {
     "data": {
      "text/html": [
       "<div>\n",
       "<style scoped>\n",
       "    .dataframe tbody tr th:only-of-type {\n",
       "        vertical-align: middle;\n",
       "    }\n",
       "\n",
       "    .dataframe tbody tr th {\n",
       "        vertical-align: top;\n",
       "    }\n",
       "\n",
       "    .dataframe thead th {\n",
       "        text-align: right;\n",
       "    }\n",
       "</style>\n",
       "<table border=\"1\" class=\"dataframe\">\n",
       "  <thead>\n",
       "    <tr style=\"text-align: right;\">\n",
       "      <th></th>\n",
       "      <th>trigger_date</th>\n",
       "      <th>line_color</th>\n",
       "    </tr>\n",
       "  </thead>\n",
       "  <tbody>\n",
       "    <tr>\n",
       "      <th>0</th>\n",
       "      <td>2020-04-14</td>\n",
       "      <td>rgb(137, 183, 135)</td>\n",
       "    </tr>\n",
       "    <tr>\n",
       "      <th>1</th>\n",
       "      <td>2020-04-14</td>\n",
       "      <td>rgb(137, 183, 135)</td>\n",
       "    </tr>\n",
       "    <tr>\n",
       "      <th>2</th>\n",
       "      <td>2020-04-14</td>\n",
       "      <td>rgb(137, 183, 135)</td>\n",
       "    </tr>\n",
       "    <tr>\n",
       "      <th>3</th>\n",
       "      <td>2020-04-14</td>\n",
       "      <td>rgb(137, 183, 135)</td>\n",
       "    </tr>\n",
       "    <tr>\n",
       "      <th>4</th>\n",
       "      <td>2020-04-14</td>\n",
       "      <td>rgb(137, 183, 135)</td>\n",
       "    </tr>\n",
       "  </tbody>\n",
       "</table>\n",
       "</div>"
      ],
      "text/plain": [
       "  trigger_date          line_color\n",
       "0   2020-04-14  rgb(137, 183, 135)\n",
       "1   2020-04-14  rgb(137, 183, 135)\n",
       "2   2020-04-14  rgb(137, 183, 135)\n",
       "3   2020-04-14  rgb(137, 183, 135)\n",
       "4   2020-04-14  rgb(137, 183, 135)"
      ]
     },
     "execution_count": 139,
     "metadata": {},
     "output_type": "execute_result"
    }
   ],
   "source": [
    "df = pd.read_csv('trigger_event_colors.csv')"
   ]
  },
  {
   "cell_type": "code",
   "execution_count": 140,
   "metadata": {},
   "outputs": [],
   "source": [
    "# Convert \"date\" column to datetime format.\n",
    "df['trigger_date'] = pd.to_datetime(df['trigger_date'])"
   ]
  },
  {
   "cell_type": "code",
   "execution_count": 141,
   "metadata": {},
   "outputs": [],
   "source": [
    "# Convert rgb to hex (you can skip it if you have hex)\n",
    "df['line_color'] = df['line_color'].str[3:].apply(lambda x: '#%02x%02x%02x' % eval(x))"
   ]
  },
  {
   "cell_type": "code",
   "execution_count": 162,
   "metadata": {
    "scrolled": false
   },
   "outputs": [
    {
     "data": {
      "image/png": "[encoded data removed]",
      "text/plain": [
       "<Figure size 432x288 with 1 Axes>"
      ]
     },
     "metadata": {
      "needs_background": "light"
     },
     "output_type": "display_data"
    }
   ],
   "source": [
    "# Set the dummy X axis\n",
    "df['dummy'] = 0\n",
    "\n",
    "# Set line width\n",
    "linewidth = 3\n",
    "# Plot\n",
    "fig, ax = plt.subplots()\n",
    "ax.scatter(df['dummy'], df['trigger_date'], s=0)\n",
    "\n",
    "# Add vertical lines\n",
    "ax.hlines(df['trigger_date'], xmin=-0.5, xmax=0.5, colors=df['line_color'], linewidth=linewidth)\n",
    "# Hide X axis.\n",
    "ax.get_xaxis().set_visible(False)\n",
    "# Remove empty space.\n",
    "# ax.set_ylim(df['trigger_date'].min(), df['trigger_date'].max())\n",
    "# Change date frequency.\n",
    "# ax.yaxis.set_major_locator(mdates.AutoDateLocator())\n",
    "# Change trigger_date formatting.\n",
    "ax.yaxis.set_major_formatter(mdates.DateFormatter('%a %d %b'))\n",
    "# Add title.\n",
    "plt.title('Trade Signals Heat Map', fontsize=10)\n",
    "# Hide the right and top spines.\n",
    "ax.spines['right'].set_visible(False)\n",
    "ax.spines['left'].set_visible(False)\n",
    "ax.spines['top'].set_visible(False)\n",
    "ax.spines['bottom'].set_visible(False)\n",
    "# Remove ticks\n",
    "plt.tick_params(axis='y', which='major', left=False)\n",
    "plt.show()"
   ]
  },
  {
   "cell_type": "code",
   "execution_count": null,
   "metadata": {},
   "outputs": [],
   "source": []
  }
 ],
 "metadata": {
  "kernelspec": {
   "display_name": "Python 3",
   "language": "python",
   "name": "python3"
  },
  "language_info": {
   "codemirror_mode": {
    "name": "ipython",
    "version": 3
   },
   "file_extension": ".py",
   "mimetype": "text/x-python",
   "name": "python",
   "nbconvert_exporter": "python",
   "pygments_lexer": "ipython3",
   "version": "3.8.2"
  }
 },
 "nbformat": 4,
 "nbformat_minor": 2
}
